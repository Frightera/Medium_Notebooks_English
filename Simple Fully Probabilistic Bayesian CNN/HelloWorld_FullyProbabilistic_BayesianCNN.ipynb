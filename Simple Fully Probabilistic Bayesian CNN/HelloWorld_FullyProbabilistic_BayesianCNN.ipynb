{
 "cells": [
  {
   "cell_type": "markdown",
   "id": "f3b2807e",
   "metadata": {
    "id": "f3b2807e"
   },
   "source": [
    "# Imports"
   ]
  },
  {
   "cell_type": "code",
   "execution_count": 1,
   "id": "mHTvZop4bz-Q",
   "metadata": {
    "colab": {
     "base_uri": "https://localhost:8080/"
    },
    "id": "mHTvZop4bz-Q",
    "outputId": "881ee4f8-a939-49dc-a520-8d140c7eb365"
   },
   "outputs": [
    {
     "name": "stdout",
     "output_type": "stream",
     "text": [
      "Sat Mar 12 19:50:45 2022       \n",
      "+-----------------------------------------------------------------------------+\n",
      "| NVIDIA-SMI 460.32.03    Driver Version: 460.32.03    CUDA Version: 11.2     |\n",
      "|-------------------------------+----------------------+----------------------+\n",
      "| GPU  Name        Persistence-M| Bus-Id        Disp.A | Volatile Uncorr. ECC |\n",
      "| Fan  Temp  Perf  Pwr:Usage/Cap|         Memory-Usage | GPU-Util  Compute M. |\n",
      "|                               |                      |               MIG M. |\n",
      "|===============================+======================+======================|\n",
      "|   0  Tesla P100-PCIE...  Off  | 00000000:00:04.0 Off |                    0 |\n",
      "| N/A   57C    P0    32W / 250W |      0MiB / 16280MiB |      0%      Default |\n",
      "|                               |                      |                  N/A |\n",
      "+-------------------------------+----------------------+----------------------+\n",
      "                                                                               \n",
      "+-----------------------------------------------------------------------------+\n",
      "| Processes:                                                                  |\n",
      "|  GPU   GI   CI        PID   Type   Process name                  GPU Memory |\n",
      "|        ID   ID                                                   Usage      |\n",
      "|=============================================================================|\n",
      "|  No running processes found                                                 |\n",
      "+-----------------------------------------------------------------------------+\n"
     ]
    }
   ],
   "source": [
    "!nvidia-smi"
   ]
  },
  {
   "cell_type": "code",
   "execution_count": 2,
   "id": "caed0563",
   "metadata": {
    "colab": {
     "base_uri": "https://localhost:8080/"
    },
    "id": "caed0563",
    "outputId": "879d0bed-5b89-444c-98e6-b5fc4d821e0e"
   },
   "outputs": [
    {
     "data": {
      "text/plain": [
       "('2.8.0', '0.16.0')"
      ]
     },
     "execution_count": 2,
     "metadata": {},
     "output_type": "execute_result"
    }
   ],
   "source": [
    "import tensorflow as tf\n",
    "import tensorflow_datasets as tfds\n",
    "\n",
    "import tensorflow_probability as tfp\n",
    "\n",
    "tfd = tfp.distributions\n",
    "tfpl = tfp.layers\n",
    "\n",
    "import numpy as np\n",
    "import matplotlib.pyplot as plt\n",
    "\n",
    "tf.__version__, tfp.__version__"
   ]
  },
  {
   "cell_type": "markdown",
   "id": "c581280d",
   "metadata": {
    "id": "c581280d"
   },
   "source": [
    "# Reparameterization Layers"
   ]
  },
  {
   "cell_type": "code",
   "execution_count": 3,
   "id": "fef0862d",
   "metadata": {
    "id": "fef0862d"
   },
   "outputs": [],
   "source": [
    "# divergence_fn = lambda q, p, _: tfd.kl_divergence(q, p) / total_samples\n",
    "\n",
    "# tfpl.Convolution2DReparameterization(\n",
    "#         input_shape = (128,6), \n",
    "#         filters = 8, \n",
    "#         kernel_size = 16,\n",
    "#         activation = 'relu',\n",
    "#         kernel_prior_fn = tfpl.default_multivariate_normal_fn,\n",
    "#         kernel_posterior_fn = tfpl.default_mean_field_normal_fn(is_singular=False),\n",
    "#         kernel_divergence_fn = divergence_fn,\n",
    "#         bias_prior_fn = None,\n",
    "#         bias_posterior_fn = tfpl.default_mean_field_normal_fn(is_singular=True),\n",
    "#         bias_divergence_fn = divergence_fn)"
   ]
  },
  {
   "cell_type": "markdown",
   "id": "p3-wVAnR7jDT",
   "metadata": {
    "id": "p3-wVAnR7jDT"
   },
   "source": [
    "## Load MNIST Data"
   ]
  },
  {
   "cell_type": "code",
   "execution_count": 4,
   "id": "ae0bde05",
   "metadata": {
    "colab": {
     "base_uri": "https://localhost:8080/"
    },
    "id": "ae0bde05",
    "outputId": "bc83c949-f1bc-4785-a450-e3b9441a36a3"
   },
   "outputs": [
    {
     "data": {
      "text/plain": [
       "(TensorSpec(shape=(None, 28, 28, 1), dtype=tf.float32, name=None),\n",
       " TensorSpec(shape=(None, 10), dtype=tf.float32, name=None))"
      ]
     },
     "execution_count": 4,
     "metadata": {},
     "output_type": "execute_result"
    }
   ],
   "source": [
    "train_ds, test_ds = tfds.load('mnist',\n",
    "                              split = ['train', 'test'],\n",
    "                              as_supervised = True)\n",
    "\n",
    "# Normalize and one-hot\n",
    "def ohe_normalize(images, labels):\n",
    "    images = tf.cast(images, tf.float32)\n",
    "    images = tf.divide(images, 255.0)\n",
    "\n",
    "    labels = tf.one_hot(labels, 10)\n",
    "\n",
    "    return images, labels\n",
    "\n",
    "train_ds = train_ds.batch(128).map(ohe_normalize).shuffle(128) \\\n",
    "          .prefetch(tf.data.AUTOTUNE)\n",
    "test_ds = test_ds.batch(128).map(ohe_normalize) \\\n",
    "          .prefetch(tf.data.AUTOTUNE)\n",
    "\n",
    "# Outputs a tuple of two elements, first --> Images, second --> Labels\n",
    "train_ds.element_spec          "
   ]
  },
  {
   "cell_type": "markdown",
   "id": "y70CWoDN9D9L",
   "metadata": {
    "id": "y70CWoDN9D9L"
   },
   "source": [
    "## First Normal CNN"
   ]
  },
  {
   "cell_type": "code",
   "execution_count": null,
   "id": "89255ad4",
   "metadata": {
    "colab": {
     "base_uri": "https://localhost:8080/"
    },
    "id": "89255ad4",
    "outputId": "b85b32d5-fcbb-4848-8227-cf7e83b9dbe5"
   },
   "outputs": [],
   "source": [
    "normal_cnn = tf.keras.Sequential([\n",
    "    tf.keras.layers.Conv2D(16, 3, activation = 'swish', \n",
    "                           input_shape = (28, 28, 1),\n",
    "                           padding = 'same'),\n",
    "    tf.keras.layers.MaxPooling2D(2),\n",
    "    \n",
    "    tf.keras.layers.Conv2D(32, 3, activation = 'swish',\n",
    "                           padding = 'same'),\n",
    "    tf.keras.layers.MaxPooling2D(2),\n",
    "\n",
    "    tf.keras.layers.Conv2D(64, 3, activation = 'swish',\n",
    "                           padding = 'same'),\n",
    "    tf.keras.layers.MaxPooling2D(2),\n",
    "\n",
    "    tf.keras.layers.Conv2D(128, 3, activation = 'swish',\n",
    "                           padding = 'same'),\n",
    "    tf.keras.layers.GlobalMaxPooling2D(),\n",
    "    \n",
    "    tf.keras.layers.Dense(10, activation = 'softmax')\n",
    "])\n",
    "\n",
    "normal_cnn.compile(optimizer = 'adam', loss = 'categorical_crossentropy',\n",
    "             metrics = ['acc'])\n",
    "\n",
    "normal_cnn.summary() # Total params: 98,442"
   ]
  },
  {
   "cell_type": "markdown",
   "id": "PVg7Wctu-DhJ",
   "metadata": {
    "id": "PVg7Wctu-DhJ"
   },
   "source": [
    "## Bayesian CNN"
   ]
  },
  {
   "cell_type": "code",
   "execution_count": 6,
   "id": "2AyekIbf4D-c",
   "metadata": {
    "colab": {
     "base_uri": "https://localhost:8080/"
    },
    "id": "2AyekIbf4D-c",
    "outputId": "44be2a02-f616-4b28-bb16-822b24dc9493"
   },
   "outputs": [
    {
     "name": "stdout",
     "output_type": "stream",
     "text": [
      "reinterpreted_batch_ndims: 0:\n",
      "batch_shape: (4,) event_shape: () Sample shape: (4,)\n",
      "Samples: [-1.4488162   0.28503537 -2.6792827   1.6637591 ] \n",
      "\n",
      "reinterpreted_batch_ndims: 1:\n",
      "batch_shape: () event_shape: (4,) Sample shape: (4,)\n",
      "Samples: [-0.59052044  0.00105313 -0.59601015  0.643041  ] \n",
      "\n"
     ]
    }
   ],
   "source": [
    "# Revise reinterpreted_batch_ndims arg. Needed for custom prior & posterior.\n",
    "shape = (4, )\n",
    "dtype = tf.float32\n",
    "distribution = tfd.Normal(loc = tf.zeros(shape, dtype),\n",
    "                            scale = tf.ones(shape, dtype))\n",
    "# batch_ndims = tf.size(distribution.batch_shape_tensor())\n",
    "\n",
    "for i in range(len(shape) + 1):\n",
    "    print('reinterpreted_batch_ndims: %d:' %(i))\n",
    "    independent_dist = tfd.Independent(distribution,\n",
    "                                       reinterpreted_batch_ndims = i)\n",
    "    samples = independent_dist.sample()\n",
    "    print('batch_shape: {}' \n",
    "          ' event_shape: {}' \n",
    "          ' Sample shape: {}'.format(independent_dist._batch_shape(),\n",
    "                                    independent_dist._event_shape(),\n",
    "                                    samples.shape))\n",
    "    print('Samples:', samples.numpy(), '\\n')"
   ]
  },
  {
   "cell_type": "markdown",
   "id": "zMF0aS_rsVfW",
   "metadata": {
    "id": "zMF0aS_rsVfW"
   },
   "source": [
    "### How to Provide Custom Prior?"
   ]
  },
  {
   "cell_type": "code",
   "execution_count": 7,
   "id": "e3631cc2",
   "metadata": {
    "id": "e3631cc2"
   },
   "outputs": [],
   "source": [
    "# For Reparameterization Layers\n",
    "def custom_mvn_prior(dtype, shape, name, trainable, add_variable_fn):\n",
    "    distribution = tfd.Normal(loc = 0.1 * tf.ones(shape, dtype),\n",
    "                              scale = 0.003 * tf.ones(shape, dtype))\n",
    "    batch_ndims = tf.size(distribution.batch_shape_tensor())\n",
    "    \n",
    "    independent_distribution = tfd.Independent(distribution,\n",
    "                                   reinterpreted_batch_ndims = batch_ndims)\n",
    "    return independent_distribution"
   ]
  },
  {
   "cell_type": "markdown",
   "id": "wxFvgCGhsaXn",
   "metadata": {
    "id": "wxFvgCGhsaXn"
   },
   "source": [
    "### What if KL cannot be Computed Analytically?"
   ]
  },
  {
   "cell_type": "code",
   "execution_count": 8,
   "id": "PG-aAU7WFdmT",
   "metadata": {
    "id": "PG-aAU7WFdmT"
   },
   "outputs": [],
   "source": [
    "# The default posterior is Normal and if we use a laplace prior, we need to\n",
    "# approximate the KL. If we try to compute KL with that 2 distributions, we will get:\n",
    "# Error:\n",
    "# No KL(distribution_a || distribution_b) registered for distribution_a type Normal and distribution_b type Laplace\n",
    "\n",
    "# Call arguments received:\n",
    "#   • inputs=tf.Tensor(shape=(None, 28, 28, 1), dtype=float32)\n",
    "\n",
    "def approximate_kl(q, p, q_tensor):\n",
    "    return tf.reduce_mean(q.log_prob(q_tensor) - p.log_prob(q_tensor))\n",
    "\n",
    "total_samples = 60000\n",
    "divergence_fn = lambda q, p, q_tensor : approximate_kl(q, p, q_tensor) / total_samples"
   ]
  },
  {
   "cell_type": "code",
   "execution_count": 9,
   "id": "DoR1GIWOZ46u",
   "metadata": {
    "id": "DoR1GIWOZ46u"
   },
   "outputs": [],
   "source": [
    "def conv_reparameterization_layer(filters, kernel_size, activation):\n",
    "    # For simplicity, we use default prior and posterior.\n",
    "    # In the next parts, we will use custom mixture prior and posteriors.\n",
    "    return tfpl.Convolution2DReparameterization(\n",
    "            filters = filters,\n",
    "            kernel_size = kernel_size,\n",
    "            activation = activation, \n",
    "            padding = 'same',\n",
    "            kernel_posterior_fn = tfpl.default_mean_field_normal_fn(is_singular=False),\n",
    "            kernel_prior_fn = tfpl.default_multivariate_normal_fn,\n",
    "            \n",
    "            bias_prior_fn = tfpl.default_multivariate_normal_fn,\n",
    "            bias_posterior_fn = tfpl.default_mean_field_normal_fn(is_singular=False),\n",
    "            \n",
    "            kernel_divergence_fn = divergence_fn,\n",
    "            bias_divergence_fn = divergence_fn)"
   ]
  },
  {
   "cell_type": "markdown",
   "id": "117ed43a",
   "metadata": {},
   "source": [
    "### Create BCNN"
   ]
  },
  {
   "cell_type": "code",
   "execution_count": 10,
   "id": "4WF_lDEcBOml",
   "metadata": {
    "colab": {
     "base_uri": "https://localhost:8080/"
    },
    "id": "4WF_lDEcBOml",
    "outputId": "bee399a7-a51a-4efa-9cc5-866226583ab0"
   },
   "outputs": [
    {
     "name": "stderr",
     "output_type": "stream",
     "text": [
      "/usr/local/lib/python3.7/dist-packages/tensorflow_probability/python/layers/util.py:102: UserWarning: `layer.add_variable` is deprecated and will be removed in a future version. Please use `layer.add_weight` method instead.\n",
      "  trainable=trainable)\n",
      "/usr/local/lib/python3.7/dist-packages/tensorflow_probability/python/layers/util.py:112: UserWarning: `layer.add_variable` is deprecated and will be removed in a future version. Please use `layer.add_weight` method instead.\n",
      "  trainable=trainable)\n"
     ]
    },
    {
     "name": "stdout",
     "output_type": "stream",
     "text": [
      "Model: \"sequential_1\"\n",
      "_________________________________________________________________\n",
      " Layer (type)                Output Shape              Param #   \n",
      "=================================================================\n",
      " conv2d_reparameterization (  (None, 28, 28, 16)       320       \n",
      " Conv2DReparameterization)                                       \n",
      "                                                                 \n",
      " max_pooling2d_3 (MaxPooling  (None, 14, 14, 16)       0         \n",
      " 2D)                                                             \n",
      "                                                                 \n",
      " conv2d_reparameterization_1  (None, 14, 14, 32)       9280      \n",
      "  (Conv2DReparameterization)                                     \n",
      "                                                                 \n",
      " max_pooling2d_4 (MaxPooling  (None, 7, 7, 32)         0         \n",
      " 2D)                                                             \n",
      "                                                                 \n",
      " conv2d_reparameterization_2  (None, 7, 7, 64)         36992     \n",
      "  (Conv2DReparameterization)                                     \n",
      "                                                                 \n",
      " max_pooling2d_5 (MaxPooling  (None, 3, 3, 64)         0         \n",
      " 2D)                                                             \n",
      "                                                                 \n",
      " conv2d_reparameterization_3  (None, 3, 3, 128)        147712    \n",
      "  (Conv2DReparameterization)                                     \n",
      "                                                                 \n",
      " global_max_pooling2d_1 (Glo  (None, 128)              0         \n",
      " balMaxPooling2D)                                                \n",
      "                                                                 \n",
      " dense_reparameterization (D  (None, 10)               2580      \n",
      " enseReparameterization)                                         \n",
      "                                                                 \n",
      " one_hot_categorical (OneHot  ((None, 10),             0         \n",
      " Categorical)                 (None, 10))                        \n",
      "                                                                 \n",
      "=================================================================\n",
      "Total params: 196,884\n",
      "Trainable params: 196,884\n",
      "Non-trainable params: 0\n",
      "_________________________________________________________________\n"
     ]
    }
   ],
   "source": [
    "bayesian_cnn = tf.keras.Sequential([\n",
    "    tf.keras.layers.InputLayer((28, 28, 1)),\n",
    "    \n",
    "    conv_reparameterization_layer(16, 3, 'swish'),\n",
    "    tf.keras.layers.MaxPooling2D(2),\n",
    "    \n",
    "    conv_reparameterization_layer(32, 3, 'swish'),\n",
    "    tf.keras.layers.MaxPooling2D(2),\n",
    "\n",
    "    conv_reparameterization_layer(64, 3, 'swish'),\n",
    "    tf.keras.layers.MaxPooling2D(2),\n",
    "\n",
    "    conv_reparameterization_layer(128, 3, 'swish'),\n",
    "    tf.keras.layers.GlobalMaxPooling2D(),\n",
    "    \n",
    "    tfpl.DenseReparameterization(\n",
    "        units = tfpl.OneHotCategorical.params_size(10), activation = None,\n",
    "        kernel_posterior_fn = tfpl.default_mean_field_normal_fn(is_singular=False),\n",
    "        kernel_prior_fn = tfpl.default_multivariate_normal_fn,\n",
    "        \n",
    "        bias_prior_fn = tfpl.default_multivariate_normal_fn,\n",
    "        bias_posterior_fn = tfpl.default_mean_field_normal_fn(is_singular=False),\n",
    "        \n",
    "        kernel_divergence_fn = divergence_fn,\n",
    "        bias_divergence_fn = divergence_fn),\n",
    "    tfpl.OneHotCategorical(10)\n",
    "])\n",
    "\n",
    "def nll(y_true, y_pred):\n",
    "    return -y_pred.log_prob(y_true)\n",
    "\n",
    "bayesian_cnn.compile(loss=nll,\n",
    "              optimizer=tf.keras.optimizers.Adam(0.001),\n",
    "              metrics=['accuracy'])\n",
    "\n",
    "bayesian_cnn.summary()"
   ]
  },
  {
   "cell_type": "code",
   "execution_count": 11,
   "id": "wagyyldNFJD_",
   "metadata": {
    "colab": {
     "base_uri": "https://localhost:8080/"
    },
    "id": "wagyyldNFJD_",
    "outputId": "2b342338-4686-4af6-9976-0213e87ceac1"
   },
   "outputs": [
    {
     "name": "stdout",
     "output_type": "stream",
     "text": [
      "Epoch 1/12\n",
      "469/469 [==============================] - 17s 18ms/step - loss: 4.7674 - accuracy: 0.6792 - val_loss: 4.1597 - val_accuracy: 0.9095\n",
      "Epoch 2/12\n",
      "469/469 [==============================] - 5s 11ms/step - loss: 4.0503 - accuracy: 0.9244 - val_loss: 3.9239 - val_accuracy: 0.9428\n",
      "Epoch 3/12\n",
      "469/469 [==============================] - 5s 11ms/step - loss: 3.8208 - accuracy: 0.9484 - val_loss: 3.7356 - val_accuracy: 0.9456\n",
      "Epoch 4/12\n",
      "469/469 [==============================] - 5s 11ms/step - loss: 3.6138 - accuracy: 0.9596 - val_loss: 3.5012 - val_accuracy: 0.9679\n",
      "Epoch 5/12\n",
      "469/469 [==============================] - 5s 11ms/step - loss: 3.4163 - accuracy: 0.9673 - val_loss: 3.3117 - val_accuracy: 0.9726\n",
      "Epoch 6/12\n",
      "469/469 [==============================] - 5s 11ms/step - loss: 3.2263 - accuracy: 0.9712 - val_loss: 3.1341 - val_accuracy: 0.9744\n",
      "Epoch 7/12\n",
      "469/469 [==============================] - 5s 11ms/step - loss: 3.0467 - accuracy: 0.9740 - val_loss: 2.9602 - val_accuracy: 0.9758\n",
      "Epoch 8/12\n",
      "469/469 [==============================] - 5s 11ms/step - loss: 2.8846 - accuracy: 0.9754 - val_loss: 2.8000 - val_accuracy: 0.9793\n",
      "Epoch 9/12\n",
      "469/469 [==============================] - 6s 12ms/step - loss: 2.7258 - accuracy: 0.9773 - val_loss: 2.6527 - val_accuracy: 0.9770\n",
      "Epoch 10/12\n",
      "469/469 [==============================] - 5s 11ms/step - loss: 2.5832 - accuracy: 0.9777 - val_loss: 2.5219 - val_accuracy: 0.9793\n",
      "Epoch 11/12\n",
      "469/469 [==============================] - 5s 11ms/step - loss: 2.4495 - accuracy: 0.9786 - val_loss: 2.3883 - val_accuracy: 0.9798\n",
      "Epoch 12/12\n",
      "469/469 [==============================] - 5s 11ms/step - loss: 2.3281 - accuracy: 0.9791 - val_loss: 2.2741 - val_accuracy: 0.9795\n"
     ]
    },
    {
     "data": {
      "text/plain": [
       "<keras.callbacks.History at 0x7f385517a390>"
      ]
     },
     "execution_count": 11,
     "metadata": {},
     "output_type": "execute_result"
    }
   ],
   "source": [
    "bayesian_cnn.fit(train_ds, epochs = 12, validation_data = test_ds)"
   ]
  },
  {
   "cell_type": "code",
   "execution_count": 12,
   "id": "-B_y_YNFcLMQ",
   "metadata": {
    "id": "-B_y_YNFcLMQ"
   },
   "outputs": [],
   "source": [
    "example_images = []\n",
    "example_labels = []\n",
    "\n",
    "for x, y in test_ds.take(10):\n",
    "    example_images.append(x.numpy())\n",
    "    example_labels.append(y.numpy())\n",
    "\n",
    "example_images = np.concatenate(example_images, axis = 0)    \n",
    "example_labels = np.concatenate(example_labels, axis = 0)    "
   ]
  },
  {
   "cell_type": "code",
   "execution_count": 13,
   "id": "rgVSJidtGdVu",
   "metadata": {
    "id": "rgVSJidtGdVu"
   },
   "outputs": [],
   "source": [
    "def analyse_model_prediction(image, label = None, forward_passes = 10):\n",
    "    if label is not None:\n",
    "        label = np.argmax(label, axis = -1)\n",
    "    \n",
    "    extracted_probabilities = np.empty(shape=(forward_passes, 10))\n",
    "    extracted_std = np.empty(shape=(forward_passes, 10))\n",
    "    for i in range(forward_passes):\n",
    "        model_output_distribution = bayesian_cnn(tf.expand_dims(image, \n",
    "                                                  axis = 0))\n",
    "        extracted_probabilities[i] = model_output_distribution.mean().numpy().flatten()\n",
    "        extracted_std[i] = model_output_distribution.stddev().numpy().flatten()\n",
    "\n",
    "    fig, (ax1, ax2) = plt.subplots(nrows=1, ncols=2, figsize=(16, 6),\n",
    "                                   gridspec_kw={'width_ratios': [2, 4]})\n",
    "    plt.xticks(fontsize = 16, rotation = 45)\n",
    "    plt.yticks(fontsize = 16)\n",
    "\n",
    "    # Show the image and the true label if provided.\n",
    "    ax1.imshow(image.squeeze(), cmap='gray')\n",
    "    ax1.axis('off')\n",
    "    if label is not None:\n",
    "        ax1.set_title('True Label: {}'.format(str(label)), fontsize = 20)\n",
    "    else:\n",
    "        ax1.set_title('True Label Not Given', fontsize = 20)\n",
    "    \n",
    "    # Obtain the 95% prediction interval.\n",
    "    # extracted_probabilities.shape = (forward_passes, 10)\n",
    "    # So if we sample from the model 100 times, there will be 100 different\n",
    "    # values for each of the 10 classes. \n",
    "    # We get the interval for each of the classes independently.\n",
    "    pct_2p5 = np.array([np.percentile(extracted_probabilities[:, i], \n",
    "                                      2.5) for i in range(10)])\n",
    "    pct_97p5 = np.array([np.percentile(extracted_probabilities[:, i], \n",
    "                                       97.5) for i in range(10)]) \n",
    "\n",
    "    # Std also contains 100 different values. We take median across the column\n",
    "    # to obtain a single value for each of the class label.\n",
    "    extracted_std = np.median(extracted_std, axis = 0)\n",
    "    highest_var_label = np.argmax(extracted_std, axis = -1)\n",
    "    if label is not None:\n",
    "        print('Label %d has the highest std in this'\n",
    "        ' prediction with the value %.3f' %(highest_var_label,\n",
    "                                            extracted_std[highest_var_label]))\n",
    "    else:\n",
    "      print('Std Array:', extracted_std)     \n",
    "    \n",
    "    bar = ax2.bar(np.arange(10), pct_97p5, color='red')\n",
    "    if label is not None:\n",
    "        bar[int(label)].set_color('green')\n",
    "    \n",
    "    ax2.bar(np.arange(10), pct_2p5-0.02, color='white', \n",
    "            linewidth=4, edgecolor='white')\n",
    "    ax2.set_xticks(np.arange(10))\n",
    "    \n",
    "    ax2.set_ylim([0, 1])\n",
    "    ax2.set_ylabel('Probability', fontsize = 18)\n",
    "    ax2.set_title(\"Model's Probabilities\", fontsize = 20)\n",
    "    plt.show()"
   ]
  },
  {
   "cell_type": "code",
   "execution_count": 18,
   "id": "ADKmTDUQsL55",
   "metadata": {
    "colab": {
     "base_uri": "https://localhost:8080/",
     "height": 420
    },
    "id": "ADKmTDUQsL55",
    "outputId": "2cdf0bb3-4384-4c46-a10b-0cb21900b935"
   },
   "outputs": [
    {
     "name": "stdout",
     "output_type": "stream",
     "text": [
      "Label 8 has the highest std in this prediction with the value 0.157\n"
     ]
    },
    {
     "data": {
      "image/png": "[encoded data removed]",
      "text/plain": [
       "<Figure size 1152x432 with 2 Axes>"
      ]
     },
     "metadata": {
      "needs_background": "light"
     },
     "output_type": "display_data"
    }
   ],
   "source": [
    "analyse_model_prediction(example_images[284], example_labels[284])"
   ]
  },
  {
   "cell_type": "code",
   "execution_count": 14,
   "id": "lDnT6Koxc2vE",
   "metadata": {
    "colab": {
     "base_uri": "https://localhost:8080/",
     "height": 420
    },
    "id": "lDnT6Koxc2vE",
    "outputId": "f5b61032-98e2-4733-996f-6944c2e721fa"
   },
   "outputs": [
    {
     "name": "stdout",
     "output_type": "stream",
     "text": [
      "Label 0 has the highest std in this prediction with the value 0.001\n"
     ]
    },
    {
     "data": {
      "image/png": "[encoded data removed]",
      "text/plain": [
       "<Figure size 1152x432 with 2 Axes>"
      ]
     },
     "metadata": {
      "needs_background": "light"
     },
     "output_type": "display_data"
    }
   ],
   "source": [
    "analyse_model_prediction(example_images[50], example_labels[50])"
   ]
  },
  {
   "cell_type": "code",
   "execution_count": 15,
   "id": "o2J1vKp2c-io",
   "metadata": {
    "colab": {
     "base_uri": "https://localhost:8080/",
     "height": 420
    },
    "id": "o2J1vKp2c-io",
    "outputId": "d5fe9a66-3880-468b-fbd2-82bddbea559c"
   },
   "outputs": [
    {
     "name": "stdout",
     "output_type": "stream",
     "text": [
      "Label 0 has the highest std in this prediction with the value 0.278\n"
     ]
    },
    {
     "data": {
      "image/png": "[encoded data removed]",
      "text/plain": [
       "<Figure size 1152x432 with 2 Axes>"
      ]
     },
     "metadata": {
      "needs_background": "light"
     },
     "output_type": "display_data"
    }
   ],
   "source": [
    "noise_vector = np.random.uniform(size = (28, 28, 1), low = 0, high = 0.5)\n",
    "noisy_image = np.clip(example_images[50] + noise_vector, 0, 1)\n",
    "analyse_model_prediction(noisy_image, example_labels[50])"
   ]
  },
  {
   "cell_type": "code",
   "execution_count": 16,
   "id": "4wtcYDJmoXYN",
   "metadata": {
    "colab": {
     "base_uri": "https://localhost:8080/",
     "height": 420
    },
    "id": "4wtcYDJmoXYN",
    "outputId": "88ec4ab7-1b15-4e6f-fbb5-9f560e401e64"
   },
   "outputs": [
    {
     "name": "stdout",
     "output_type": "stream",
     "text": [
      "Label 0 has the highest std in this prediction with the value 0.434\n"
     ]
    },
    {
     "data": {
      "image/png": "[encoded data removed]",
      "text/plain": [
       "<Figure size 1152x432 with 2 Axes>"
      ]
     },
     "metadata": {
      "needs_background": "light"
     },
     "output_type": "display_data"
    }
   ],
   "source": [
    "noise_vector = np.random.uniform(size = (28, 28, 1), low = 0, high = 0.5)\n",
    "noisy_image = np.clip(example_images[50] + noise_vector*2, 0, 1)\n",
    "analyse_model_prediction(noisy_image, example_labels[50])"
   ]
  },
  {
   "cell_type": "code",
   "execution_count": 17,
   "id": "cKDgiPHZotP1",
   "metadata": {
    "colab": {
     "base_uri": "https://localhost:8080/",
     "height": 438
    },
    "id": "cKDgiPHZotP1",
    "outputId": "42e4fad2-9e9b-418e-d5a7-1227f391bc80"
   },
   "outputs": [
    {
     "name": "stdout",
     "output_type": "stream",
     "text": [
      "Std Array: [0.27027504 0.22355586 0.19433676 0.08276099 0.1712302  0.14369398\n",
      " 0.31018993 0.13080781 0.47434729 0.18379491]\n"
     ]
    },
    {
     "data": {
      "image/png": "[encoded data removed]",
      "text/plain": [
       "<Figure size 1152x432 with 2 Axes>"
      ]
     },
     "metadata": {
      "needs_background": "light"
     },
     "output_type": "display_data"
    }
   ],
   "source": [
    "analyse_model_prediction(np.random.uniform(size = (28, 28, 1), low = 0, \n",
    "                                           high = 1))"
   ]
  },
  {
   "cell_type": "code",
   "execution_count": 17,
   "id": "PJHtwIOAoyAW",
   "metadata": {
    "id": "PJHtwIOAoyAW"
   },
   "outputs": [],
   "source": []
  }
 ],
 "metadata": {
  "accelerator": "GPU",
  "colab": {
   "collapsed_sections": [],
   "machine_shape": "hm",
   "name": "Bayesian CNN.ipynb",
   "provenance": []
  },
  "kernelspec": {
   "display_name": "Python 3",
   "language": "python",
   "name": "python3"
  },
  "language_info": {
   "codemirror_mode": {
    "name": "ipython",
    "version": 3
   },
   "file_extension": ".py",
   "mimetype": "text/x-python",
   "name": "python",
   "nbconvert_exporter": "python",
   "pygments_lexer": "ipython3",
   "version": "3.8.8"
  }
 },
 "nbformat": 4,
 "nbformat_minor": 5
}
